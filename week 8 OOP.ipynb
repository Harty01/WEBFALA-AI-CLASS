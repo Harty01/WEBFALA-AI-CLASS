{
 "cells": [
  {
   "cell_type": "code",
   "execution_count": 1,
   "id": "6046b993-fc88-43ba-a498-01ef90df6e9c",
   "metadata": {},
   "outputs": [
    {
     "name": "stdout",
     "output_type": "stream",
     "text": [
      "Bashirat\n",
      "30\n",
      "black\n"
     ]
    }
   ],
   "source": [
    "class Person:\n",
    "    def __init__(self, name, age, complexion):\n",
    "    \n",
    "        self.name= name\n",
    "        self.age= age\n",
    "        self.complexion= complexion\n",
    "\n",
    "p1=Person('Bashirat',\"30\",'black')\n",
    "print(p1.name)\n",
    "print(p1.age)\n",
    "print(p1.complexion)"
   ]
  },
  {
   "cell_type": "code",
   "execution_count": 2,
   "id": "61b7c4b8-a7aa-42ba-8a40-529c7943eaa3",
   "metadata": {},
   "outputs": [
    {
     "name": "stdout",
     "output_type": "stream",
     "text": [
      "olaitan\n",
      "light\n",
      "60\n",
      "my name is Bashirat, i am 30 and i am black\n"
     ]
    }
   ],
   "source": [
    "p2=Person('olaitan',60,'light') # another instance (object) of the class\n",
    "print(p2.name)\n",
    "print(p2.complexion)\n",
    "print(p2.age)\n",
    "print(f'my name is {p1.name}, i am {p1.age} and i am {p1.complexion}')"
   ]
  },
  {
   "cell_type": "code",
   "execution_count": 3,
   "id": "a678525d-3535-414a-97bc-06796300d300",
   "metadata": {},
   "outputs": [
    {
     "ename": "_IncompleteInputError",
     "evalue": "incomplete input (3649612795.py, line 3)",
     "output_type": "error",
     "traceback": [
      "\u001b[1;36m  Cell \u001b[1;32mIn[3], line 3\u001b[1;36m\u001b[0m\n\u001b[1;33m    \u001b[0m\n\u001b[1;37m    ^\u001b[0m\n\u001b[1;31m_IncompleteInputError\u001b[0m\u001b[1;31m:\u001b[0m incomplete input\n"
     ]
    }
   ],
   "source": [
    "class Dog:\n",
    "    def __init__(self,name):\n",
    "        "
   ]
  },
  {
   "cell_type": "code",
   "execution_count": null,
   "id": "6742813b-575d-40b5-b336-a58195f7348a",
   "metadata": {},
   "outputs": [],
   "source": [
    "class Person:\n",
    "    def __init__(self, name, age, complexion='dark'):\n",
    "    \n",
    "        self.name= name\n",
    "        self.age= age\n",
    "        self.complexion= complexion\n",
    "    def Education(self,school='webfala'):\n",
    "        print(\n",
    "    \n",
    "p1=Person('ada',30,'light')\n",
    "print(p1.name)\n",
    "\n",
    "print(p1.age)\n",
    "print(p1.complexion)\n",
    "p1.Education()\n",
    "\n"
   ]
  },
  {
   "cell_type": "code",
   "execution_count": null,
   "id": "60203be7-ac3a-432f-8714-527ca45da547",
   "metadata": {},
   "outputs": [],
   "source": [
    "class DOG:\n",
    "    def __init__(self,name):\n",
    "        self.name=name\n",
    "    def bark (self):\n",
    "        print(f'{self.name} says whoof')\n",
    "dog1=DOG('jack')\n",
    "dog1.name\n",
    "#dog1='dollar'\n",
    "dog1.name\n",
    "dog1.bark()"
   ]
  },
  {
   "cell_type": "code",
   "execution_count": null,
   "id": "27075858-d545-4004-9cf8-49cb0b38cffc",
   "metadata": {},
   "outputs": [],
   "source": [
    "class Car:\n",
    "    wheels=4 #static /class variable\n",
    "    def __init__(self,colour):\n",
    "        self.colour=colour\n",
    "car1=Car('Red')\n",
    "car2=Car('blue')\n",
    "print(car1.wheels)\n",
    "print(car2.wheels)\n",
    "print(car1.colour)\n",
    "print(car2.colour)\n",
    "car1.wheels=6 #this does not work for the instant class\n",
    "car1.wheels"
   ]
  },
  {
   "cell_type": "code",
   "execution_count": null,
   "id": "d6ac8782-2246-4784-a562-03111ad90451",
   "metadata": {},
   "outputs": [],
   "source": [
    "class Bash:\n",
    "    def __init__(self,age,complexion,height):\n",
    "        self.age= age\n",
    "        self.complexion=complexion\n",
    "        self.height=height\n",
    "    def xteristic (self):\n",
    "        print(f' I am {self.age}years with height of {self.height}, i am {self.complexion}')\n",
    "bash1=Bash(34,'dark', '35m')\n",
    "bash1.xteristic()\n",
    "bash2=Bash(4,'light','5m')\n",
    "bash2.xteristic()"
   ]
  },
  {
   "cell_type": "code",
   "execution_count": null,
   "id": "e53afbb3-ffd6-4bdf-8b8e-745fce08113b",
   "metadata": {},
   "outputs": [],
   "source": [
    "class Lecturers:\n",
    "    def __init__(self,name,course,department,salary):\n",
    "        self.name=name\n",
    "        self.course=course\n",
    "        self.department=department\n",
    "        self.salary=salary\n",
    "    def School(self,schools='unilorin'):\n",
    "        print(f' Mr {self.name} works in {self.School()}in the department of {self.department} with monthly income of {self.salary}')\n",
    "Lecturer1=Lecturers('Ajijolakeu','Mcb311','Microbiology','#45000')\n",
    "Lecturer1.School()\n",
    "        \n",
    "        "
   ]
  },
  {
   "cell_type": "code",
   "execution_count": null,
   "id": "67288e90-e134-4d81-b6f9-4e773a5f3fde",
   "metadata": {},
   "outputs": [],
   "source": [
    "class ShoppingCart:\n",
    "    def __init__(self): #initializing without any parameters non parameterize\n",
    "        self.items=[] #one property empty cartlist\n",
    "    def add_item(self,name,price,qty):\n",
    "        self.items.append({'name':name,'price':price,'qty':qty})\n",
    "        print(f'{name} added to cart.')\n",
    "\n",
    "    def remove_cart(self,name):\n",
    "        for item in self.items:\n",
    "            if item['name']==name:\n",
    "                self.item.remove()\n",
    "            \n",
    "            #print (f'{name} removed from the cart')\n",
    "            return (f'{name} removed from the cart')\n",
    "        print('item not found in cart')\n",
    "\n",
    "    def total_price(self):\n",
    "        return sum(item['price']* item['qty'] for item in self.items)\n",
    "    def show_cart(self):\n",
    "        if not self.items:\n",
    "            print('your cart is empty')\n",
    "        else:\n",
    "            print('item in cart:')\n",
    "            for item in self.items:\n",
    "                print(f\"{item['name']}:N {item['price']}\")\n",
    "            print(f\"total: N{self.total_price()}\")\n",
    "                \n",
    "            "
   ]
  },
  {
   "cell_type": "code",
   "execution_count": null,
   "id": "b8b1d77e-88d0-4581-99d1-9e8a038beaec",
   "metadata": {},
   "outputs": [],
   "source": [
    "cart1=ShoppingCart()\n",
    "cart2=ShoppingCart()\n"
   ]
  },
  {
   "cell_type": "code",
   "execution_count": null,
   "id": "e53cfbed-ce54-484c-9aa8-c3098ace6fe8",
   "metadata": {},
   "outputs": [],
   "source": [
    "cart1.add_item('onion',300,4)"
   ]
  },
  {
   "cell_type": "code",
   "execution_count": null,
   "id": "e35dd24a-9956-4be4-8378-70f6168177af",
   "metadata": {},
   "outputs": [],
   "source": [
    "cart1.add_item('mangoes',200,4)"
   ]
  },
  {
   "cell_type": "code",
   "execution_count": null,
   "id": "4cf819e8-13a7-430f-a693-0e5b0d367301",
   "metadata": {},
   "outputs": [],
   "source": [
    "cart1.add_item('bread',800,1)"
   ]
  },
  {
   "cell_type": "code",
   "execution_count": null,
   "id": "91eb82e5-84a7-4425-a97c-3bdf953cc878",
   "metadata": {},
   "outputs": [],
   "source": [
    "cart1.total_price()"
   ]
  },
  {
   "cell_type": "code",
   "execution_count": null,
   "id": "4abac153-d295-41a3-9020-99495324df8b",
   "metadata": {},
   "outputs": [],
   "source": [
    "cart1.show_cart()"
   ]
  },
  {
   "cell_type": "markdown",
   "id": "bd81e053-dd47-4131-87e4-416c22f5a458",
   "metadata": {},
   "source": [
    "## Difference between static method, class method and instance (self)\n",
    "method\n",
    "#### 1. Instance Method:\n",
    "#### The most common method in Python.\n",
    "#### Operates on an instance of the class.\n",
    "#### Has access to instance variables and class variables (static).\n",
    "#### Takes self as the first parameter.\n",
    "- When to use:\n",
    "#### When the method needs to access or modify instance data (i.e., data unique to each\n",
    "object)."
   ]
  },
  {
   "cell_type": "code",
   "execution_count": null,
   "id": "741b7fe7-fb13-4211-a512-aa5edaf74ee9",
   "metadata": {},
   "outputs": [],
   "source": [
    "class Dog:\n",
    "    def __init__(self, name):\n",
    "        self.name = name\n",
    "    def bark(self): # Instance method\n",
    "        print(f\"{self.name} says Woof!\")\n",
    "dog1 = Dog(\"Jack\")\n",
    "dog1.bark()"
   ]
  },
  {
   "cell_type": "markdown",
   "id": "dadbe6ea-f3c1-4ea9-958c-15ebfd36a769",
   "metadata": {},
   "source": [
    "## 2. Class Method\n",
    "### Works with the class itself, not instances.\n",
    "### Takes cls (not self) as the first parameter.\n",
    "### Can access and modify class-level variables.\n",
    "### When to use:\n",
    "- When you want to operate on the class, like factory methods or modifying static properties."
   ]
  },
  {
   "cell_type": "code",
   "execution_count": null,
   "id": "6771d6cb-00d3-4b35-b118-fb74d815332c",
   "metadata": {},
   "outputs": [],
   "source": [
    "class Dog:\n",
    "    species = \"Canine\"\n",
    "    def __init__(self, name):\n",
    "        self.name = name\n",
    "    @classmethod\n",
    "    def info(cls): # Class method\n",
    "        print(f\"All dogs are {cls.species}\") # cannot use {self.name} or {self.cls}\n",
    "Dog.info()"
   ]
  },
  {
   "cell_type": "markdown",
   "id": "cfc64426-8ce1-4d2f-8986-5ac60268c11d",
   "metadata": {},
   "source": [
    "## 3. Static Method\n",
    "### A method that does not take self or cls.\n",
    "### Cannot access instance or class variables directly.\n",
    "### Acts like a regular function, but lives inside the class for organizational purposes.\n",
    "### When to use:\n",
    "### When the method doesn't need access to class or instance data. Use it for utility/helper\n",
    "functions."
   ]
  },
  {
   "cell_type": "code",
   "execution_count": null,
   "id": "b7d0ceb9-3c63-46fe-b629-6481ab0e3b47",
   "metadata": {},
   "outputs": [],
   "source": [
    "class Dog:\n",
    "    @staticmethod\n",
    "    def greet(): # Static method\n",
    "        print(\"Hello from the dog class!\")\n",
    "Dog.greet()"
   ]
  },
  {
   "cell_type": "markdown",
   "id": "4c34f926-5ec2-455c-85d4-eafdbbf9cad7",
   "metadata": {},
   "source": [
    "### What is the Importance of a Constructor in Python\n",
    "(OOP)?\n",
    "### In Object-Oriented Programming, a constructor is a special method that is automatically\n",
    "### called when a new object of a class is created. In Python, the constructor is defined using\n",
    "### the init method.\n",
    "### Why is the Constructor Important?\n",
    "### 1. Object Initialization: The constructor is used to initialize (set up) an object's state (i.e.,\n",
    "### assign values to instance variables) when the object is created.\n",
    "### 2. Eliminates Redundancy: Ensures every object starts with a defined state, avoiding repetitive\n",
    "### code and reducing the risk of forgetting to initialize necessary attributes.\n",
    "### 3. Improves Readability and Maintainability: When constructors are used, it's easy to\n",
    "### understand what data is required to create an object just by looking at the init method.\n",
    "### 4. Supports Constructor Overloading (via default values): Python allows you to define flexible\n",
    "### constructors by giving default values.\n",
    "### 5. Foundation for Inheritance: In inheritance, constructors help pass values from parent to\n",
    "### child classes using super()."
   ]
  },
  {
   "cell_type": "code",
   "execution_count": null,
   "id": "c06a56d0-6d3a-4b22-8308-2ad2860bd497",
   "metadata": {},
   "outputs": [],
   "source": [
    "class Bank_Account:\n",
    "    def __init__(self,fullname,acct_type,balance=0.00):\n",
    "        self.fullname=fullname\n",
    "        self.acct_type=acct_type\n",
    "        self.balance=balance\n",
    "    def deposit(self,amount):\n",
    "        if amount >0:\n",
    "            self.balance+=amount\n",
    "            print(f\"Deposited N{amount:.2f}. New balance:N{self.balance:.2f}\")\n",
    "        else:\n",
    "            print(\"Deposit amount must be positive.\")\n",
    "    def withdraw (self,amount):\n",
    "        if amount<=0:\n",
    "            print(\"Withdrawal amount must be positive\")\n",
    "        elif amount> self.balance:\n",
    "            print(\"Insufficient fund.\")\n",
    "        else:\n",
    "            self.balance-=amount\n",
    "            print(f\"Withdrew #{amount:.2f}. New balance: #{self.ballance:.2f}\")\n",
    "    def check_balance(self):\n",
    "         print(f\"Current balance :#{self.balance:.2f}\")\n",
    "    def account_summary(self):\n",
    "         print(f\"Account Holder: {self.fullname}\")\n",
    "         print(f\"Account Type:{self.acct_type}\")\n",
    "         print(f\"Balance: #{self.balance:.2f}\")\n",
    "\n",
    "    def transfer(self ,amount, acct_number):\n",
    "        if len(acct_number) ==  10:\n",
    "             if amount<=0:\n",
    "                 print('Transfer must be positive')\n",
    "             elif  amount > self.balance:\n",
    "                 print(\"insufficient funds.\")\n",
    "             else:\n",
    "                 self.balance-=amount\n",
    "                 print(f\"transfered #{amount:.2f}.  New balance: #{self.balance:.2f}\")\n",
    "        else:\n",
    "                (\"invalid account number\")\n",
    " "
   ]
  },
  {
   "cell_type": "code",
   "execution_count": null,
   "id": "cc6bad69-fc83-4ca4-93ff-8b19a52d3487",
   "metadata": {},
   "outputs": [],
   "source": [
    "user1=Bank_Account('bashiratmusa','current')\n",
    "Bank_Account.transfer(430000, 144566727)\n"
   ]
  },
  {
   "cell_type": "markdown",
   "id": "90331df0-0696-4d31-be5f-7cb1e597171f",
   "metadata": {},
   "source": [
    "### Fundamental Concepts in OOP\n",
    "### Inheritance\n",
    "### Inheritance is a fundamental concept in Object-Oriented Programming (OOP) that allows\n",
    "### a class (called the child class or subclass) to inherit properties and methods from\n",
    "### another class (called the parent class or superclass).\n",
    "### Analogy: Imagine you have a general class Animal with features like eat() and sleep().\n",
    "### Now, you want to create classes Dog and Cat. Instead of redefining eat() and sleep() in\n",
    "### both classes, they can inherit those methods from the Animal class and then add or\n",
    "### override their specific behaviors (like bark() or meow()).\n",
    "### Why Use Inheritance?\n",
    "- To reuse code — you don’t have to rewrite common functionality.\n",
    "- To extend or customize existing functionality.\n",
    "- To promote a hierarchical classification (e.g., Animal → Dog, Cat).\n",
    "### Single Level Inheritance\n",
    "When a child class inherits from a single parent class"
   ]
  },
  {
   "cell_type": "code",
   "execution_count": null,
   "id": "a3e1d17d-5d87-44e2-8a87-3183bd8948f7",
   "metadata": {},
   "outputs": [],
   "source": [
    "class Parent:\n",
    "    def greet (self):\n",
    "        print('Hello from parent')\n",
    "p1=Parent()\n",
    "p1.greet()\n"
   ]
  },
  {
   "cell_type": "code",
   "execution_count": null,
   "id": "21a201ad-500f-4da7-b745-8b52427d1f0d",
   "metadata": {},
   "outputs": [],
   "source": [
    "class child(Parent):\n",
    "    pass\n",
    "c1=child()\n",
    "c1.greet()"
   ]
  },
  {
   "cell_type": "code",
   "execution_count": null,
   "id": "d689fdb2-c6bc-423c-99c9-67718abdd5e3",
   "metadata": {},
   "outputs": [],
   "source": [
    "class child2(Parent):    #adding/overriding in chukd class\n",
    "    def greet(self):\n",
    "        print('hello from child')\n",
    "c2=child2()\n",
    "c2.greet()"
   ]
  },
  {
   "cell_type": "markdown",
   "id": "58d004de-a89c-45a3-98cc-ed6a850218dd",
   "metadata": {},
   "source": [
    "## How Constructor Behaves in Inheritance\n",
    "### Default Behavior: If child class has no constructor, parent constructor is automatically called. If\n",
    "### child has its own constructor, parent constructor is not called unless explicitly done with super()\n",
    "## The super() Function\n",
    "### To call the parent class’s method inside the child class (especially in constructors), use super():"
   ]
  },
  {
   "cell_type": "code",
   "execution_count": null,
   "id": "7f05c934-11f1-462c-bcc0-46582cc47bdc",
   "metadata": {},
   "outputs": [],
   "source": [
    "class Parent:\n",
    "    def __init__(self,name):\n",
    "        self.name=name\n",
    "    "
   ]
  },
  {
   "cell_type": "code",
   "execution_count": null,
   "id": "4ee4c03c-d606-45d3-b4e8-3139f2c7f590",
   "metadata": {},
   "outputs": [],
   "source": [
    "class Child(Parent):\n",
    "    def __init__(self,name,age):\n",
    "        super().__init__ (name) #calls parent's _init__\n",
    "        self.age=age"
   ]
  },
  {
   "cell_type": "code",
   "execution_count": null,
   "id": "00469a0e-c28c-4e90-b6e1-4761bf5cfe24",
   "metadata": {},
   "outputs": [],
   "source": [
    "c=Child('jane',20)\n",
    "c.age\n",
    "c.name\n"
   ]
  },
  {
   "cell_type": "markdown",
   "id": "166047db-52d0-4bc3-866b-ee32f334db42",
   "metadata": {},
   "source": [
    "### Multilevel Inheritance\n",
    "### When a class inherits from a child class which itself inherits from another class — forming a\n",
    "### chain.\n",
    "### Used to extend a hierarchy of increasing specialization."
   ]
  },
  {
   "cell_type": "code",
   "execution_count": null,
   "id": "ed52df9a-c52c-4a27-b50a-b2c5863d3054",
   "metadata": {},
   "outputs": [],
   "source": [
    "class Animal:\n",
    "    def speak(self):\n",
    "        print('Animals speaks')\n",
    "\n",
    "\n",
    "              "
   ]
  },
  {
   "cell_type": "code",
   "execution_count": null,
   "id": "56edb95d-83d6-47e4-80cb-ef86f1a03b0f",
   "metadata": {},
   "outputs": [],
   "source": [
    "class Dog(Animal):\n",
    "    def bark(self):\n",
    "        print('dog barks')"
   ]
  },
  {
   "cell_type": "code",
   "execution_count": null,
   "id": "da335d02-c5fa-427f-9186-fd50d99cf58a",
   "metadata": {},
   "outputs": [],
   "source": [
    "class Puppy(Dog):\n",
    "    def weep(self):\n",
    "        print(\"puppy weeps\")"
   ]
  },
  {
   "cell_type": "code",
   "execution_count": null,
   "id": "cd591e4d-2093-473d-9795-fb80f27a4e4b",
   "metadata": {},
   "outputs": [],
   "source": [
    "p=Puppy()\n",
    "p.speak() #inherit fform animal\n",
    "p.bark() #inherit from dog\n",
    "p.weep() # class method"
   ]
  },
  {
   "cell_type": "markdown",
   "id": "bfadd1b4-0732-4050-9872-8c48e35af30c",
   "metadata": {},
   "source": [
    "### Multiple Inheritance\n",
    "### When a class inherits from more than one parent class.\n",
    "### Used when a class needs combined functionality from multiple classes."
   ]
  },
  {
   "cell_type": "code",
   "execution_count": null,
   "id": "968e4bde-47c8-4b32-8e07-5e3195adef76",
   "metadata": {},
   "outputs": [],
   "source": [
    "#create a class smartphome that inherits features for both camera and musicplayer\n",
    "class Camera:\n",
    "    def take_photo(self):\n",
    "        print(\"taking a photo....\")\n",
    "        "
   ]
  },
  {
   "cell_type": "code",
   "execution_count": null,
   "id": "4722bdb3-99f6-4ee4-aee7-714205c4d277",
   "metadata": {},
   "outputs": [],
   "source": [
    "class MusicPlayer:\n",
    "    def Play_music(self):\n",
    "        print(\"playing music....\")"
   ]
  },
  {
   "cell_type": "code",
   "execution_count": null,
   "id": "3d874b76-44c6-4d76-863e-e54b7227ca97",
   "metadata": {},
   "outputs": [],
   "source": [
    "class SmartPhone(Camera,MusicPlayer):\n",
    "    def make_call(self):\n",
    "        print(\"Making a call....\")"
   ]
  },
  {
   "cell_type": "code",
   "execution_count": null,
   "id": "e2622977-9a5e-4eb6-a68c-1f02aec4831b",
   "metadata": {},
   "outputs": [],
   "source": [
    "phone=SmartPhone() #instance of the class\n",
    "phone.take_photo()\n",
    "phone.Play_music()\n",
    "phone.make_call()"
   ]
  },
  {
   "cell_type": "markdown",
   "id": "51298b2e-6ce7-4756-9e88-7b3684a53f49",
   "metadata": {},
   "source": [
    "### Hierarchical Inheritance\n",
    "### When multiple child classes inherit from a single parent class.\n",
    "### Used when different child classes need shared behavior."
   ]
  },
  {
   "cell_type": "code",
   "execution_count": null,
   "id": "cbb4986a-3cdc-4432-aa3d-8b5bfbe5474e",
   "metadata": {},
   "outputs": [],
   "source": [
    "class Animal:\n",
    "    def speak(self):\n",
    "        print(\"Animal makes sound\")\n",
    "class Dog(Animal):\n",
    "    def bark(self):\n",
    "        print('dog  barks')\n",
    "\n",
    "class Cat(Animal):\n",
    "    def meow(self):\n",
    "        print('cat meow')"
   ]
  },
  {
   "cell_type": "code",
   "execution_count": null,
   "id": "f61e0810-dd5f-4545-b146-15a757154152",
   "metadata": {},
   "outputs": [],
   "source": [
    "d=Dog()\n",
    "d.speak()\n",
    "d.bark()\n"
   ]
  },
  {
   "cell_type": "code",
   "execution_count": null,
   "id": "51553e10-0a0e-45f6-b58d-f6ad7bb2d9a3",
   "metadata": {},
   "outputs": [],
   "source": [
    "c=Cat()\n",
    "c.speak()\n",
    "c.meow()"
   ]
  },
  {
   "cell_type": "code",
   "execution_count": null,
   "id": "6fbc3bf7-82c6-4c15-b094-006d75e1ae0d",
   "metadata": {},
   "outputs": [],
   "source": [
    "# Example\n",
    "# Imagine a company system where you have a base class called Employee,\n",
    "# and subclasses like Manager, Developer, and Designer, all of which are types of employees but with different behaviors.\n"
   ]
  },
  {
   "cell_type": "code",
   "execution_count": null,
   "id": "770c04d3-d962-4aab-a20b-0cad132e822d",
   "metadata": {},
   "outputs": [],
   "source": [
    "class Employee:\n",
    "    def __init__(self,name,iD,salary):\n",
    "        self.name=name\n",
    "        self.iD=iD\n",
    "        self.salary=salary\n",
    "\n",
    "    def show_details(self):\n",
    "        print(f\"Name:{self.name} with ID {self.iD}\")\n",
    "\n",
    "class Manager (Employee):\n",
    "    def manage_team(self):\n",
    "        print(f\"{self.name} is managing the team with salary of {self.salary}\")\n",
    "class Developer(Employee):\n",
    "    def write_code(self):\n",
    "        print(f\"{self.name} is writing code with saalry of {self.salary}\")\n",
    "class Designer(Employee):\n",
    "    def design_ui(self):\n",
    "        print(f\"{self.name} is designimg UI with salary of {self.salary}\")"
   ]
  },
  {
   "cell_type": "code",
   "execution_count": null,
   "id": "dd283f4f-90a3-424e-92e7-8bccbbfd1a62",
   "metadata": {},
   "outputs": [],
   "source": [
    "# create insance or objects of eacg class\n",
    "m=Manager('Bahirat','10abdc3f', 1000000000)\n",
    "d=Developer('Oluwatosin','145ahdfr356', 8000000)\n",
    "D=Designer('placton','1537gfsj45',9006547)"
   ]
  },
  {
   "cell_type": "code",
   "execution_count": null,
   "id": "2ecf15f8-244c-4b5e-9412-5e29db468718",
   "metadata": {},
   "outputs": [],
   "source": [
    "d.show_details()\n",
    "m.show_details()"
   ]
  },
  {
   "cell_type": "code",
   "execution_count": null,
   "id": "739434ad-47bd-4ef4-be95-8ff66a84cd1d",
   "metadata": {},
   "outputs": [],
   "source": [
    "D.design_ui()"
   ]
  },
  {
   "cell_type": "code",
   "execution_count": null,
   "id": "feb565ea-c1e7-4e1a-b0cd-c9c7a8ccbaac",
   "metadata": {},
   "outputs": [],
   "source": [
    "class School:\n",
    "    def school_info(self):\n",
    "        print(\"This is a school\")\n",
    "class Student(School):\n",
    "    def student_info(self):\n",
    "        print(\"This is a student\")\n",
    "class Teacher(School):\n",
    "    def teacher_info(self):\n",
    "        print(\"This is a teacher\")\n",
    "class TeachingAssistant(Student, Teacher): # Multiple and hierarchical\n",
    "    def ta_info(self):\n",
    "        print(\"This is a teaching assistant\")"
   ]
  },
  {
   "cell_type": "code",
   "execution_count": null,
   "id": "aa0ea3d8-2f77-4788-8463-5e6303ce3d9b",
   "metadata": {},
   "outputs": [],
   "source": [
    "ta = TeachingAssistant()\n",
    "ta.school_info()\n",
    "ta.student_info()\n",
    "ta.teacher_info()\n",
    "ta.ta_info()"
   ]
  },
  {
   "cell_type": "markdown",
   "id": "ea732e8e-b4f4-4b83-958b-82f3e3db2639",
   "metadata": {},
   "source": [
    "# Encapsulation\n",
    "### Encapsulation is one of the core principles of Object-Oriented Programming (OOP). It\n",
    "### refers to bundling data (attributes) and methods (functions) that operate on that data into\n",
    "### a single unit — a class — while restricting direct access to some components.\n",
    "### In Python, encapsulation is used to protect object data from unintended or unauthorized\n",
    "### access and modification.\n",
    "### Why Use Encapsulation?\n",
    "### To protect data from accidental changes.\n",
    "### To control access to attributes and methods.\n",
    "### To make your code modular, secure, and maintainable.\n",
    "### To allow validation or preprocessing before setting or getting data.\n",
    "### Access Specifiers in Python:\n",
    "### Python doesn't have strict access modifiers like private, protected, or public as in some\n",
    "### other languages, but it uses naming conventions:\n",
    "### Access Type Syntax Meaning\n",
    "### Public self.name Can be accessed anywhere.\n",
    "### Protected self._name Shouldn't be accessed outs\n",
    "### ide class (by convention)."
   ]
  },
  {
   "cell_type": "code",
   "execution_count": null,
   "id": "d46b5ca0-bbf9-4440-9f8c-fc1a4d779c30",
   "metadata": {},
   "outputs": [],
   "source": [
    "class BankAccount:\n",
    "    def __init__(self, fullname, balance):\n",
    "        self.fullname = fullname\n",
    "        self.__balance = balance # private attribute\n",
    "# Getter method\n",
    "    def get_balance(self):\n",
    "        return self.__balance\n",
    "# Setter method with validation\n",
    "    def set_balance(self, amount):\n",
    "        if amount < 0:\n",
    "            print(\"Balance cannot be negative!\")\n",
    "        else:\n",
    "            self.__balance = amount\n",
    "    def deposit(self, amount):\n",
    "        if amount > 0:\n",
    "            self.__balance += amount\n",
    "    def withdraw(self, amount):\n",
    "        if amount > 0 and amount <= self.__balance:\n",
    "            self.__balance -= amount\n",
    "        else:\n",
    "            print(\"Insufficient funds!\")"
   ]
  },
  {
   "cell_type": "code",
   "execution_count": null,
   "id": "ace80f0a-2a12-4320-bb40-922de359e515",
   "metadata": {},
   "outputs": [],
   "source": [
    "account = BankAccount(\"Roshedat D\", 1000)"
   ]
  },
  {
   "cell_type": "code",
   "execution_count": null,
   "id": "1b705533-ee6c-4220-8ca4-734db452b6e6",
   "metadata": {},
   "outputs": [],
   "source": [
    "# Access using getter\n",
    "print(\"Initial Balance:\", account.get_balance())"
   ]
  },
  {
   "cell_type": "code",
   "execution_count": null,
   "id": "9ba3616a-bc9a-4c6f-aee1-1ac82d43f6d6",
   "metadata": {},
   "outputs": [],
   "source": [
    "# Access using getter\n",
    "print(\"Initial Balance:\", account.get_balance())"
   ]
  },
  {
   "cell_type": "code",
   "execution_count": null,
   "id": "84ea0c23-736c-45b0-becf-c9625a8775b2",
   "metadata": {},
   "outputs": [],
   "source": [
    "# Update using setter\n",
    "account.set_balance(1500)\n",
    "print(\"Updated Balance:\", account.get_balance())"
   ]
  },
  {
   "cell_type": "code",
   "execution_count": null,
   "id": "1a277a26-6ee1-418f-a6fc-28fce36fcee7",
   "metadata": {},
   "outputs": [],
   "source": [
    "account.set_balance(-100)"
   ]
  },
  {
   "cell_type": "code",
   "execution_count": null,
   "id": "a1d6b2ab-6f24-4df1-9eff-20589db3f228",
   "metadata": {},
   "outputs": [],
   "source": [
    "print(account.fullname)"
   ]
  },
  {
   "cell_type": "code",
   "execution_count": null,
   "id": "cba9eec1-2ffa-48ea-9441-5173af02f259",
   "metadata": {},
   "outputs": [],
   "source": [
    "print(account.__balance)"
   ]
  },
  {
   "cell_type": "markdown",
   "id": "fb976c18-6d0c-4e52-9096-80044d60ad8d",
   "metadata": {},
   "source": [
    "### Setter & Getter Methods in Python (Also known as\n",
    "### Accessor and Mutator methods )\n",
    "### What Are Setter and Getter Methods?\n",
    "### Getter Method (Accessor): A getter is used to retrieve (access) the value of a private\n",
    "### attribute from outside the class.\n",
    "### Setter Method (Mutator):A setter is used to set or update the value of a private attribute\n",
    "### from outside the class, often with validation or control.\n",
    "### These methods are crucial for implementing encapsulation, which hides internal object\n",
    "### data and exposes only safe interfaces to access and modify them.\n",
    "### Why Not Access Attributes Directly?\n",
    "### Accessing or modifying attributes directly can lead to:\n",
    "### Unexpected behavior.\n",
    "### Security issues.\n",
    "### Difficult debugging and maintenance.\n",
    "### Violation of business logic.\n",
    "### by using setters/getters, we can:\n",
    "### Validate values before assigning.\n",
    "### Log changes.\n",
    "### Protect data from being corrupted."
   ]
  },
  {
   "cell_type": "markdown",
   "id": "b5298fe1-0855-4328-a94e-d4b30bcbb610",
   "metadata": {},
   "source": [
    "### Scenario2:\n",
    "### You are building a student management system, and you want to ensure that student"
   ]
  },
  {
   "cell_type": "code",
   "execution_count": null,
   "id": "1a1ed049-924e-41e2-82ef-3e28c961d26a",
   "metadata": {},
   "outputs": [],
   "source": [
    "class Student:\n",
    "    def __init__(self, name,Dob):\n",
    "        self.name = name\n",
    "        self.__Dob=Dob\n",
    "        self.__grade = None # Private variable\n",
    "    def set_grade(self, grade):\n",
    "        if 0 <= grade <= 100:\n",
    "            self.__grade = grade\n",
    "        else:\n",
    "            print(\"Grade must be between 0 and 100\")\n",
    "    def set_Dob(self):\n",
    "        if self.__Dob > 1995:\n",
    "            print('you are tooo old to be admitted into this school')\n",
    "        else:\n",
    "            print(\"you can be admitted if you meet our criteria\")\n",
    "    def get_grade(self):\n",
    "        return self.__grade\n",
    "    def get_dob(self):\n",
    "        return self.__Dob"
   ]
  },
  {
   "cell_type": "code",
   "execution_count": null,
   "id": "60f8aff4-7927-4c8a-b1cd-311cab51705a",
   "metadata": {},
   "outputs": [],
   "source": [
    "s1 = Student(\"John\",20002)"
   ]
  },
  {
   "cell_type": "code",
   "execution_count": null,
   "id": "a761d408-0ce7-4224-abd8-5a88570bbc66",
   "metadata": {},
   "outputs": [],
   "source": [
    "# Set valid grade\n",
    "s1.set_grade(85)\n",
    "print(f\"{s1.name}'s Grade:\", s1.get_grade())"
   ]
  },
  {
   "cell_type": "code",
   "execution_count": null,
   "id": "ded8a12b-b5c6-44ee-be0c-27a04aa4097f",
   "metadata": {},
   "outputs": [],
   "source": [
    "s1.set_grade(150)"
   ]
  },
  {
   "cell_type": "code",
   "execution_count": null,
   "id": "25d24ae6-c447-402b-ac97-c6c8b9908a18",
   "metadata": {},
   "outputs": [],
   "source": [
    "print(s1.__grade())"
   ]
  },
  {
   "cell_type": "code",
   "execution_count": null,
   "id": "f546981f-2b43-49f0-a201-653a7d3dc892",
   "metadata": {},
   "outputs": [],
   "source": [
    "s1.get_dob()"
   ]
  },
  {
   "cell_type": "code",
   "execution_count": null,
   "id": "a21d1a24-59b8-4222-8b9f-14e291fd46c5",
   "metadata": {},
   "outputs": [],
   "source": [
    "s2 = Student(\"shade\",1996)"
   ]
  },
  {
   "cell_type": "code",
   "execution_count": null,
   "id": "154d25e6-1f8b-48af-9135-7342bb56e4a6",
   "metadata": {},
   "outputs": [],
   "source": [
    "s2.set_grade(88)"
   ]
  },
  {
   "cell_type": "code",
   "execution_count": null,
   "id": "dd49bf9b-1720-4694-8c4d-2d57866ccd99",
   "metadata": {},
   "outputs": [],
   "source": [
    "s2.get_grade()"
   ]
  },
  {
   "cell_type": "code",
   "execution_count": null,
   "id": "8c649615-2dff-4325-907c-d115718eea5a",
   "metadata": {},
   "outputs": [],
   "source": [
    "s2.get_dob()\n"
   ]
  },
  {
   "cell_type": "code",
   "execution_count": null,
   "id": "551a6584-fb6a-40e5-95aa-0ce97ebede3c",
   "metadata": {},
   "outputs": [],
   "source": [
    "s2.set_Dob()"
   ]
  },
  {
   "cell_type": "markdown",
   "id": "832677b0-2704-4fde-ad70-18dbf7f6c7e5",
   "metadata": {},
   "source": [
    "# Abstraction\n",
    "### Abstraction in Object-Oriented Programming (OOP) is the concept of hiding internal\n",
    "### details and only showing essential features of an object. It helps in reducing complexity\n",
    "### and increasing code reusability and flexibility.\n",
    "### Think of it as interacting with an interface rather than the implementation.\n",
    "### Why and When to Use Abstraction?\n",
    "### Use it when:\n",
    "### You want to define a common interface for different implementations.\n",
    "### You want to enforce rules that all subclasses must follow.\n",
    "### You want to separate the \"what\" from the \"how\".\n",
    "### Benefits:\n",
    "### Simplifies code structure.\n",
    "### Increases flexibility and scalability.\n",
    "### Encourages code consistency across subclasses.\n",
    "### Abstract Class in Python\n",
    "### An abstract class:\n",
    "### Cannot be instantiated directly.\n",
    "### Is designed to be inherited.\n",
    "### May contain one or more abstract methods that must be implemented by subclasses.\n",
    "### How to Create an Abstract Class\n",
    "### In Python, abstraction is achieved by:\n",
    "### Importing from abc module (Abstract Base Classes)\n",
    "### Using the ABC class and @abstractmethod decorator"
   ]
  },
  {
   "cell_type": "markdown",
   "id": "bd083aed-8330-42e9-b187-9d4d7c569d9a",
   "metadata": {},
   "source": [
    "### Example 1"
   ]
  },
  {
   "cell_type": "code",
   "execution_count": null,
   "id": "bbefe0db-b502-4d04-a64c-8e7bbd56a513",
   "metadata": {},
   "outputs": [],
   "source": [
    "from abc import ABC, abstractmethod\n",
    "class Shape(ABC):\n",
    "    @abstractmethod\n",
    "    def area(self):\n",
    "        pass\n",
    "    @abstractmethod\n",
    "    def perimeter(self):\n",
    "        pass"
   ]
  },
  {
   "cell_type": "code",
   "execution_count": null,
   "id": "f8dbdf66-a79d-4435-94c5-9486056b8cff",
   "metadata": {},
   "outputs": [],
   "source": [
    " shape = Shape() # can be instatiate expect through inheritance"
   ]
  },
  {
   "cell_type": "code",
   "execution_count": null,
   "id": "567459a6-cb1b-4189-bee5-41ad8c33d712",
   "metadata": {},
   "outputs": [],
   "source": [
    "class Rectangle(Shape):\n",
    "    def __init__(self, width, height):\n",
    "        self.width = width\n",
    "        self.height = height\n",
    "    def area(self):\n",
    "        return self.width * self.height\n",
    "    def perimeter(self):\n",
    "        return 2 * (self.width + self.height)\n",
    "rect = Rectangle(10, 5)\n",
    "print(\"Area:\", rect.area())"
   ]
  },
  {
   "cell_type": "code",
   "execution_count": null,
   "id": "6c83b78a-824d-47a5-8933-3453b4fde421",
   "metadata": {},
   "outputs": [],
   "source": [
    "print(\"Perimeter:\", rect.perimeter())"
   ]
  },
  {
   "cell_type": "markdown",
   "id": "05cce69f-e488-430b-9fb2-7c7a7b79bdee",
   "metadata": {},
   "source": [
    "### Example 2: Payment System"
   ]
  },
  {
   "cell_type": "code",
   "execution_count": null,
   "id": "b922d060-9049-4187-bffc-22e0318b319b",
   "metadata": {},
   "outputs": [],
   "source": [
    "from abc import ABC, abstractmethod\n",
    "class Payment(ABC):\n",
    "    @abstractmethod\n",
    "    def pay (self,amount):\n",
    "        pass"
   ]
  },
  {
   "cell_type": "code",
   "execution_count": null,
   "id": "8d9522ad-65dd-4153-945e-925f0e4ccea0",
   "metadata": {},
   "outputs": [],
   "source": [
    "class CreditCardPayment(Payment):\n",
    "    def pay(self,amount):\n",
    "        print(f'Paying #{amount} using credit card.')"
   ]
  },
  {
   "cell_type": "code",
   "execution_count": null,
   "id": "992aa907-ae41-47b8-a015-2aee0f901cc9",
   "metadata": {},
   "outputs": [],
   "source": [
    "payment1=CreditCardPayment()\n",
    "payment1.pay(1000)"
   ]
  },
  {
   "cell_type": "code",
   "execution_count": null,
   "id": "edcd033b-3739-4cba-b8a3-829a8de4d75e",
   "metadata": {},
   "outputs": [],
   "source": [
    "class PayStackPayment(Payment):\n",
    "    def pay(self, amount):\n",
    "        print(f\"Paying N{amount} using PayStack.\")"
   ]
  },
  {
   "cell_type": "code",
   "execution_count": null,
   "id": "6d7e24f0-3ff8-4c4a-97f0-59b55e09cfd7",
   "metadata": {},
   "outputs": [],
   "source": [
    "payment2 = PayStackPayment()\n",
    "payment2.pay(7500)"
   ]
  },
  {
   "cell_type": "markdown",
   "id": "2a2cb82d-b010-43b0-a253-450ea598dd07",
   "metadata": {},
   "source": [
    "#### Summary\n",
    "#### ABC Class: Used to define an abstract base class\n",
    "#### @abstractmethod: Marks a method that must be implemented in the child class\n",
    "#### Can't Instantiate: You cannot create an object of an abstract class\n",
    "#### Concrete Subclass: Must implement all abstract methods\n",
    "#### When to Use: When you want to enforce rules or standard interfaces"
   ]
  },
  {
   "cell_type": "markdown",
   "id": "e15343fc-4cdd-437b-91cb-688a7ebf9837",
   "metadata": {},
   "source": [
    "# Polymorphism\n",
    "### Polymorphism means \"many forms\". In Object-Oriented Programming, it allows objects\n",
    "### of different classes to be treated as if they are objects of the same class — as long as\n",
    "### they share common methods.\n",
    "### With polymorphism, the same interface (method or operation) behaves differently\n",
    "### depending on the object that uses it.\n",
    "## Why Use Polymorphism?\n",
    "### Promotes code reusability and flexibility.\n",
    "### Supports the Open/Closed Principle — open for extension, closed for modification.\n",
    "### Helps write cleaner, extensible, and scalable code.\n",
    "### Enables dynamic method binding at runtime.\n",
    "### Types of Polymorphism in Python\n",
    "### Method Overriding: Subclass changes the behavior of a method defined in the superclass\n",
    "### Method Overloading: One method with different parameters (not natively supported like in\n",
    "### Java)\n",
    "### Constructor Overloading: Multiple constructors with different parameters (handled manually\n",
    "### in Python)\n",
    "### Operator Overloading: Using magic methods (dunder methods) to override built-in\n",
    "### operators\n",
    "- 1. Method Overriding\n",
    "### Method overriding occurs when a child (subclass) defines a method with the same name\n",
    "### and signature as a method in its parent (superclass), thereby replacing or extending its\n",
    "### behavior. Occurs when a child class provides a different implementation of a method that\n",
    "### is already defined in its parent class.\n",
    "- When to Use:\n",
    "### When you want to customize or extend the behavior of a method inherited from a parent\n",
    "### class."
   ]
  },
  {
   "cell_type": "code",
   "execution_count": null,
   "id": "388b544c-12a8-4b30-a57d-54a9458e2c5e",
   "metadata": {},
   "outputs": [],
   "source": [
    "class Animal:\n",
    "    def sound(self):\n",
    "        return \"Some sound\"\n",
    "class Dog(Animal):\n",
    "    def sound(self):\n",
    "        return \"Bark\"\n",
    "class Cat(Animal):\n",
    "    def sound(self):\n",
    "        return \"Meow\""
   ]
  },
  {
   "cell_type": "code",
   "execution_count": null,
   "id": "81dbeb7b-7c04-4a28-95e0-5e6b336acf33",
   "metadata": {},
   "outputs": [],
   "source": [
    "animal = Animal()\n",
    "animal.sound()"
   ]
  },
  {
   "cell_type": "code",
   "execution_count": null,
   "id": "aa39f3e8-2d97-4ee3-8e74-414b0ee811bd",
   "metadata": {},
   "outputs": [],
   "source": [
    "dog = Dog()\n",
    "dog.sound()\n"
   ]
  },
  {
   "cell_type": "code",
   "execution_count": null,
   "id": "35e075a6-7650-4276-9609-73f92723593f",
   "metadata": {},
   "outputs": [],
   "source": [
    "cat = Cat()\n",
    "cat.sound()"
   ]
  },
  {
   "cell_type": "markdown",
   "id": "bb9b709f-05dd-4848-af0f-35cb937f79e6",
   "metadata": {},
   "source": [
    "- PS: Each class overrides the sound() method, but you call the same method on different\n",
    "objects."
   ]
  },
  {
   "cell_type": "markdown",
   "id": "3eda4788-9b9e-492b-b8fd-9345e5561354",
   "metadata": {},
   "source": [
    "### 2. Method Overloading\n",
    "### Method overloading means defining multiple methods with the same name but different\n",
    "### parameters.\n",
    "### Python does not support traditional method overloading like Java or C++.. But you can\n",
    "### simulate it with default arguments or args and *kwargs."
   ]
  },
  {
   "cell_type": "code",
   "execution_count": null,
   "id": "2a08ce6e-cf03-460a-9d25-108680cd7fab",
   "metadata": {},
   "outputs": [],
   "source": [
    "class Calculator:\n",
    "    def add(self, a, b=0, c=0):  # Positional argument,defailt argument\n",
    "        return a + b + c"
   ]
  },
  {
   "cell_type": "code",
   "execution_count": null,
   "id": "1c00a1d5-260c-405e-b332-0b61a5c8a882",
   "metadata": {},
   "outputs": [],
   "source": [
    "calc = Calculator()\n",
    "print(calc.add(2)) "
   ]
  },
  {
   "cell_type": "code",
   "execution_count": null,
   "id": "3f864c16-f0cf-4f77-9a20-cd492f99c30c",
   "metadata": {},
   "outputs": [],
   "source": [
    "print(calc.add(2, 3))"
   ]
  },
  {
   "cell_type": "code",
   "execution_count": null,
   "id": "e2f481ca-9ffa-4f5f-a887-9cc9a49ddb80",
   "metadata": {},
   "outputs": [],
   "source": [
    "print(calc.add(2, 3, 4))"
   ]
  },
  {
   "cell_type": "markdown",
   "id": "350c4bf0-2ebc-4d4b-8d95-df8e906b4d87",
   "metadata": {},
   "source": [
    "- Although the method name is the same, the behavior varies depending on how many\n",
    "arguments are passed."
   ]
  },
  {
   "cell_type": "markdown",
   "id": "a24a88db-b717-475a-bcca-5b9faf368ecd",
   "metadata": {},
   "source": [
    "### 3. Constructor Overloading (Manual Handling)\n",
    "### Constructor overloading means having multiple constructors with different sets of\n",
    "### parameters.\n",
    "### Like methods, Python doesn’t support multiple init methods, but you can simulate it\n",
    "### using default parameters or *args."
   ]
  },
  {
   "cell_type": "code",
   "execution_count": null,
   "id": "34de0bc5-e279-45ea-b552-16e5a4f01672",
   "metadata": {},
   "outputs": [],
   "source": [
    "class Person:\n",
    "    def __init__(self, name=None, age=None):\n",
    "        if name and age:\n",
    "            print(f\"Name: {name}, Age: {age}\")\n",
    "        elif name:\n",
    "            print(f\"Name: {name}\")\n",
    "        else:\n",
    "            print(\"No information\")"
   ]
  },
  {
   "cell_type": "code",
   "execution_count": null,
   "id": "06c861b2-dc3a-41b1-bebc-b1b96c41854e",
   "metadata": {},
   "outputs": [],
   "source": [
    "p1 = Person(\"Jane\", 25)\n",
    "p2 = Person(\"Aisha\")\n",
    "p3 = Person()"
   ]
  },
  {
   "cell_type": "markdown",
   "id": "a4bbb882-8790-457f-857b-09d1e4cd9031",
   "metadata": {},
   "source": [
    "### 4. Operator Overloading (Dunder or Magic Methods)\n",
    "### Python allows you to override built-in operators using special methods like add, str, lt,etc."
   ]
  },
  {
   "cell_type": "code",
   "execution_count": null,
   "id": "e19d14ca-189f-466a-a412-5308d30948ff",
   "metadata": {},
   "outputs": [],
   "source": [
    "class Point:\n",
    "    def __init__(self, x, y):\n",
    "        self.x = x\n",
    "        self.y = y\n",
    "    def __add__(self, other): # Overload + operator\n",
    "        return Point(self.x + other.x, self.y + other.y)\n",
    "    def __str__(self): # For print()\n",
    "        return f\"({self.x}, {self.y})\""
   ]
  },
  {
   "cell_type": "code",
   "execution_count": null,
   "id": "624dfbb0-bf94-4c23-80bc-493cfb7e7b1d",
   "metadata": {},
   "outputs": [],
   "source": [
    "p1 = Point(1, 2)\n",
    "p2 = Point(3, 4)\n",
    "print(p1 + p2)"
   ]
  },
  {
   "cell_type": "markdown",
   "id": "5fd2261d-29ad-4961-8d63-276381a5e060",
   "metadata": {},
   "source": [
    "## Example: Payment System with Polymorphism"
   ]
  },
  {
   "cell_type": "code",
   "execution_count": null,
   "id": "fc8ab110-d5b5-4e60-ad70-0b6cf667fd58",
   "metadata": {},
   "outputs": [],
   "source": [
    "class Payment:\n",
    "    def pay(self, amount):\n",
    "        raise NotImplementedError(\"Subclasses must implement this method\")\n",
    "class CreditCard(Payment):\n",
    "    def pay(self, amount):\n",
    "        print(f\"Paid N{amount} using Credit Card.\")\n",
    "class PayPal(Payment):\n",
    "    def pay(self, amount):\n",
    "        print(f\"Paid N{amount} using PayStack.\")\n",
    "class BankTransfer(Payment):\n",
    "    def pay(self, amount):\n",
    "        print(f\"Paid N{amount} using Bank Transfer.\")"
   ]
  },
  {
   "cell_type": "code",
   "execution_count": null,
   "id": "1b9a920d-0715-44f9-baa6-927238aaa42e",
   "metadata": {},
   "outputs": [],
   "source": [
    "# Polymorphic behavior\n",
    "def process_payment(payment_method, amount): # a function to access  the  paymnet chanel instead of institing a class one afyer the other\n",
    "    payment_method.pay(amount)"
   ]
  },
  {
   "cell_type": "code",
   "execution_count": null,
   "id": "7869473b-8c53-44fe-ba10-356bc4b7ee7e",
   "metadata": {},
   "outputs": [],
   "source": [
    "# Using the function with different payment types\n",
    "process_payment(CreditCard(), 1000)"
   ]
  },
  {
   "cell_type": "code",
   "execution_count": null,
   "id": "b4a69742-8adc-449f-8e6c-221ebb853dbd",
   "metadata": {},
   "outputs": [],
   "source": [
    "process_payment(PayPal(), 2500)"
   ]
  },
  {
   "cell_type": "code",
   "execution_count": null,
   "id": "b354ca46-756e-4546-928c-614c9899bdf1",
   "metadata": {},
   "outputs": [],
   "source": [
    "process_payment(BankTransfer(), 20000)"
   ]
  },
  {
   "cell_type": "markdown",
   "id": "fac6d228-98da-48b4-83da-c723304ff4a5",
   "metadata": {},
   "source": [
    "Summary\n",
    "- Method Overriding: Subclass redefines a method from the parent class\n",
    "- Method Overloading: Not supported directly; simulated using default args\n",
    "- Constructor Overload: Handled using default or variable arguments\n",
    "- Dunder Methods: Enable operator/function overloading\n",
    "-Real Use: Clean API design, extensible systems, reusable code"
   ]
  },
  {
   "cell_type": "markdown",
   "id": "29661296-72e5-41f1-ae9b-6dea3542f71d",
   "metadata": {},
   "source": [
    "### OOP Continued\n",
    "### the Difference between public, protect and private variables in a class.\n",
    "### Unlike languages like Java or C++, Python doesn’t enforce access modifiers strictly, but it follows naming conventions to signal access level:"
   ]
  },
  {
   "cell_type": "code",
   "execution_count": null,
   "id": "a1c5f4d8-25a1-4eeb-ab44-054074afca24",
   "metadata": {},
   "outputs": [],
   "source": [
    "def show_age():\n",
    "    global age\n",
    "    age=20\n",
    "    print(age)\n",
    "show_age()"
   ]
  },
  {
   "cell_type": "code",
   "execution_count": null,
   "id": "46fe2a84-b90a-4809-a86a-6185ff7ad74d",
   "metadata": {},
   "outputs": [],
   "source": [
    "age"
   ]
  },
  {
   "cell_type": "code",
   "execution_count": null,
   "id": "152d4771-d272-4f21-af4b-153a5ec1f7d9",
   "metadata": {},
   "outputs": [],
   "source": [
    "def show_age():\n",
    "    age1=20\n",
    "    print(age)\n",
    "show_age()"
   ]
  },
  {
   "cell_type": "code",
   "execution_count": null,
   "id": "2e67a56b-ff00-4580-97e3-7f23e8fd7034",
   "metadata": {},
   "outputs": [],
   "source": [
    "age1 #localnvariable cant be access outside the class\n"
   ]
  },
  {
   "cell_type": "code",
   "execution_count": null,
   "id": "882122fd-5b24-42d2-b971-c2ff767d04a2",
   "metadata": {},
   "outputs": [],
   "source": [
    "def show_name():\n",
    "    name=\"bashirat\"\n",
    "    return name\n",
    "show_name()"
   ]
  },
  {
   "cell_type": "code",
   "execution_count": null,
   "id": "e9693086-d8d7-4f43-90eb-a390be696cc9",
   "metadata": {},
   "outputs": [],
   "source": [
    "name"
   ]
  },
  {
   "cell_type": "code",
   "execution_count": null,
   "id": "9c7d6731-53ff-4e7a-b57d-b1a443f9ddef",
   "metadata": {},
   "outputs": [],
   "source": [
    "lst=["
   ]
  },
  {
   "cell_type": "code",
   "execution_count": null,
   "id": "d8b842b2-5ba2-4c6c-9999-8d2132716cef",
   "metadata": {},
   "outputs": [],
   "source": [
    "class Expense:\n",
    "    def __init__(self,name,amount,category):\n",
    "        \"\"\"\n",
    "        Initialize an expense object\n",
    "        :param name(str):the name of the expense\n",
    "        :param amount(float):the amount of the expense\n",
    "        :param category(str):the category of the expense\n",
    "        \"\"\"\n",
    "        self.name=name\n",
    "        self.amount=amount\n",
    "        self.category=category\n",
    "    def __str__(self):\n",
    "        \"\"\"\n",
    "        string representation on an expense object\n",
    "        :return(str):formayyed string with expense details\n",
    "        \"\"\"\n",
    "        return f'{self.name}:#{self.amount} {self.category}'\n",
    "class ExpensesTracker:\n",
    "    def __init__(self,filename='expenses.txt'):\n",
    "            \"\"\"\n",
    "            Initializes an ExpensesTracker object\n",
    "            :param filename(str):the file to store expenses\n",
    "            \"\"\"\n",
    "            self.filename=filename\n",
    "            self.expenses=self.load_expenses()\n",
    "    def add_expense(self,expense):\n",
    "        \"\"\"\n",
    "        Add an expense to the tracker\n",
    "        :param expense(Expense):the expense to add\n",
    "        \"\"\"\n",
    "        self.expenses.append(expense)\n",
    "        self.save_expenses()\n",
    "    def load_expenses(self):\n",
    "        \"\"\"\n",
    "        Load expenses from the file\n",
    "        :Param list:list of expenses objects\n",
    "        \"\"\"\n",
    "        expenses=[]\n",
    "        try:\n",
    "            with open(self.filename,'r') as file:\n",
    "                for line in file:\n",
    "                    name,amount,category=line.strip().split(',')\n",
    "                    expense=Expense(name,float(amount),category)\n",
    "                    expenses.append(expense)\n",
    "        except FileNotFoundError:\n",
    "            pass\n",
    "        return expenses\n",
    "    def save_expenses(self):\n",
    "        \"\"\"\n",
    "        Dispaly all expenses\n",
    "        \"\"\"\n",
    "        for expense in self.expenses:\n",
    "            print(expense)\n",
    "    def get_total_expenses(self):\n",
    "        \"\"\"\n",
    "        Calculate the total expense amoun\n",
    "        :return (float):total expense amount\n",
    "        \"\"\"\n",
    "        return sum(expense.amount for expense in self.expenses) #list comprehension\n",
    "                \n",
    "            "
   ]
  },
  {
   "cell_type": "code",
   "execution_count": null,
   "id": "19ae94c6-1016-460b-91fd-a61885dc7604",
   "metadata": {},
   "outputs": [],
   "source": [
    "def main():\n",
    "    \"\"\"\n",
    "    Main function to run the expenses tracker application.\n",
    "    \"\"\"\n",
    "    tracker=ExpensesTracker()\n",
    "    while True:\n",
    "        print('\\nExpense')\n",
    "        print('1.Add expenses')\n",
    "        print('2. view expenses')\n",
    "        print('3. Get total expenses')\n",
    "        print('4.exist')\n",
    "        choice=input(\"choose an option:\")\n",
    "        if choice== '1':\n",
    "            name=input('enter expense name:')\n",
    "            amount=float(input('enter expense amount: '))\n",
    "            category=input('Enter expense category')\n",
    "            expense=Expense(name,amount,category)\n",
    "            tracker.add_expense(expense)\n",
    "            print('expense added')\n",
    "        elif choice =='2':\n",
    "            print('\\nExpenses:')\n",
    "            tracker.save_expenses()\n",
    "        elif choice=='3':\n",
    "            total=tracker.get_total_expenses()\n",
    "            print(f'nTotal Expense:#{total}')\n",
    "        elif choice =='4':\n",
    "            break\n",
    "        else:\n",
    "            print('invalid input')\n",
    "            "
   ]
  },
  {
   "cell_type": "code",
   "execution_count": null,
   "id": "9cddd758-20ad-495a-906c-27464dc6f369",
   "metadata": {},
   "outputs": [],
   "source": [
    "main()\n"
   ]
  },
  {
   "cell_type": "code",
   "execution_count": null,
   "id": "31be76d4-a011-4385-915d-baee8dcbf961",
   "metadata": {},
   "outputs": [],
   "source": []
  }
 ],
 "metadata": {
  "kernelspec": {
   "display_name": "Python 3 (ipykernel)",
   "language": "python",
   "name": "python3"
  },
  "language_info": {
   "codemirror_mode": {
    "name": "ipython",
    "version": 3
   },
   "file_extension": ".py",
   "mimetype": "text/x-python",
   "name": "python",
   "nbconvert_exporter": "python",
   "pygments_lexer": "ipython3",
   "version": "3.13.2"
  }
 },
 "nbformat": 4,
 "nbformat_minor": 5
}
